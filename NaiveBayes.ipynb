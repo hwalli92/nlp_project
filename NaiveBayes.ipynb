{
  "nbformat": 4,
  "nbformat_minor": 0,
  "metadata": {
    "colab": {
      "name": "NaiveBayes.ipynb",
      "provenance": []
    },
    "kernelspec": {
      "name": "python3",
      "display_name": "Python 3"
    },
    "language_info": {
      "name": "python"
    }
  },
  "cells": [
    {
      "cell_type": "code",
      "execution_count": 1,
      "metadata": {
        "id": "KZJuUW-5Wajm"
      },
      "outputs": [],
      "source": [
        "from sklearn.naive_bayes import MultinomialNB\n",
        "from sklearn.preprocessing import OneHotEncoder\n",
        "from sklearn.feature_extraction.text import CountVectorizer\n",
        "from sklearn import metrics\n",
        "import numpy as np\n",
        "import pickle"
      ]
    },
    {
      "cell_type": "markdown",
      "source": [
        "# Load data and embeddings"
      ],
      "metadata": {
        "id": "9cm3dS7VWprp"
      }
    },
    {
      "cell_type": "code",
      "source": [
        "!git clone https://github.com/hwalli92/nlp_project.git"
      ],
      "metadata": {
        "colab": {
          "base_uri": "https://localhost:8080/"
        },
        "id": "2KImNtajWh0F",
        "outputId": "0baf2c01-9996-4e41-97a0-cd4cec787e3f"
      },
      "execution_count": 2,
      "outputs": [
        {
          "output_type": "stream",
          "name": "stdout",
          "text": [
            "fatal: destination path 'nlp_project' already exists and is not an empty directory.\n"
          ]
        }
      ]
    },
    {
      "cell_type": "code",
      "source": [
        "%cd nlp_project"
      ],
      "metadata": {
        "colab": {
          "base_uri": "https://localhost:8080/"
        },
        "id": "RkSYHZyHW18L",
        "outputId": "54e39d66-8b29-4bc3-fef3-bd94c2884100"
      },
      "execution_count": 3,
      "outputs": [
        {
          "output_type": "stream",
          "name": "stdout",
          "text": [
            "/content/nlp_project\n"
          ]
        }
      ]
    },
    {
      "cell_type": "code",
      "source": [
        "with open(\"HateXPlainData/trainHateXplain\", \"rb\") as file:\n",
        "  train_data = pickle.load(file)\n",
        "\n",
        "with open(\"HateXPlainData/valHateXplain\", \"rb\") as file:\n",
        "  val_data = pickle.load(file)\n",
        "\n",
        "with open(\"HateXPlainData/testHateXplain\", \"rb\") as file:\n",
        "  test_data = pickle.load(file)"
      ],
      "metadata": {
        "id": "vO2VCDG7XFdZ"
      },
      "execution_count": 4,
      "outputs": []
    },
    {
      "cell_type": "code",
      "source": [
        "train_w2v = np.load(\"HateXPlainData/Train_W2V_Embeddings.npy\")\n",
        "train_glove = np.load(\"HateXPlainData/Train_GloVe_Embeddings.npy\")\n",
        "\n",
        "val_w2v = np.load(\"HateXPlainData/Val_W2V_Embeddings.npy\")\n",
        "val_glove = np.load(\"HateXPlainData/Val_GloVe_Embeddings.npy\")\n",
        "\n",
        "test_w2v = np.load(\"HateXPlainData/Test_W2V_Embeddings.npy\")\n",
        "test_glove = np.load(\"HateXPlainData/Test_GloVe_Embeddings.npy\")"
      ],
      "metadata": {
        "id": "1TTGJ1quXJKR"
      },
      "execution_count": 5,
      "outputs": []
    },
    {
      "cell_type": "markdown",
      "source": [
        "# Process data"
      ],
      "metadata": {
        "id": "hxX6G-FPXW40"
      }
    },
    {
      "cell_type": "code",
      "source": [
        "labels = {'offensive': 2, 'hatespeech': 1, 'normal': 0}\n",
        "\n",
        "train_tokens, train_labels = zip(*train_data)\n",
        "train_labels = np.array([labels[l] for l in train_labels])\n",
        "\n",
        "val_tokens, val_labels = zip(*val_data)\n",
        "val_labels = [labels[l] for l in val_labels]\n",
        "\n",
        "test_tokens, test_labels = zip(*test_data)\n",
        "test_labels = np.array([labels[l] for l in test_labels])"
      ],
      "metadata": {
        "id": "VyAAWLKlXYUe"
      },
      "execution_count": 6,
      "outputs": []
    },
    {
      "cell_type": "markdown",
      "source": [
        "\n",
        "# Naive Bayes w/ Word2Vec"
      ],
      "metadata": {
        "id": "JNP7ZtpbYYOC"
      }
    },
    {
      "cell_type": "code",
      "source": [
        "w2v_model = MultinomialNB()\n",
        "\n",
        "max_train = np.max(train_w2v)\n",
        "min_train = np.min(train_w2v)\n",
        "train_w2v = (train_w2v - min_train) / (max_train - min_train)\n",
        "\n",
        "w2v_model.fit(train_w2v, train_labels)\n",
        "\n",
        "max_train = np.max(test_w2v)\n",
        "min_train = np.min(test_w2v)\n",
        "test_w2v = (test_w2v - min_train) / (max_train - min_train)\n",
        "y_pred = w2v_model.predict(test_w2v)\n",
        "print(y_pred)\n",
        "print(test_labels)\n",
        "print(metrics.classification_report(test_labels, y_pred))\n",
        "print(metrics.confusion_matrix(test_labels, y_pred))"
      ],
      "metadata": {
        "colab": {
          "base_uri": "https://localhost:8080/"
        },
        "id": "jBpfHeq_YDJ-",
        "outputId": "c517d7d8-2b2f-4756-814f-edbdf4af39b7"
      },
      "execution_count": 7,
      "outputs": [
        {
          "output_type": "stream",
          "name": "stdout",
          "text": [
            "[0 0 0 ... 0 0 0]\n",
            "[0 0 2 ... 2 1 1]\n",
            "              precision    recall  f1-score   support\n",
            "\n",
            "           0       0.41      1.00      0.58       782\n",
            "           1       0.50      0.00      0.00       594\n",
            "           2       0.00      0.00      0.00       548\n",
            "\n",
            "    accuracy                           0.41      1924\n",
            "   macro avg       0.30      0.33      0.19      1924\n",
            "weighted avg       0.32      0.41      0.24      1924\n",
            "\n",
            "[[782   0   0]\n",
            " [593   1   0]\n",
            " [547   1   0]]\n"
          ]
        },
        {
          "output_type": "stream",
          "name": "stderr",
          "text": [
            "/usr/local/lib/python3.7/dist-packages/sklearn/metrics/_classification.py:1308: UndefinedMetricWarning: Precision and F-score are ill-defined and being set to 0.0 in labels with no predicted samples. Use `zero_division` parameter to control this behavior.\n",
            "  _warn_prf(average, modifier, msg_start, len(result))\n",
            "/usr/local/lib/python3.7/dist-packages/sklearn/metrics/_classification.py:1308: UndefinedMetricWarning: Precision and F-score are ill-defined and being set to 0.0 in labels with no predicted samples. Use `zero_division` parameter to control this behavior.\n",
            "  _warn_prf(average, modifier, msg_start, len(result))\n",
            "/usr/local/lib/python3.7/dist-packages/sklearn/metrics/_classification.py:1308: UndefinedMetricWarning: Precision and F-score are ill-defined and being set to 0.0 in labels with no predicted samples. Use `zero_division` parameter to control this behavior.\n",
            "  _warn_prf(average, modifier, msg_start, len(result))\n"
          ]
        }
      ]
    },
    {
      "cell_type": "markdown",
      "source": [
        "\n",
        "# Naive Bayes w/ GloVe"
      ],
      "metadata": {
        "id": "zYp24VK-dOea"
      }
    },
    {
      "cell_type": "code",
      "source": [
        "glove_model = MultinomialNB()\n",
        "\n",
        "max_train = np.max(train_glove)\n",
        "min_train = np.min(train_glove)\n",
        "train_glove = (train_glove - min_train) / (max_train - min_train)\n",
        "\n",
        "glove_model.fit(train_glove, train_labels)\n",
        "\n",
        "max_train = np.max(test_glove)\n",
        "min_train = np.min(test_glove)\n",
        "test_glove = (test_glove - min_train) / (max_train - min_train)\n",
        "y_pred = glove_model.predict(test_glove)\n",
        "print(y_pred)\n",
        "print(test_labels)\n",
        "print(metrics.classification_report(test_labels, y_pred))\n",
        "print(metrics.confusion_matrix(test_labels, y_pred))"
      ],
      "metadata": {
        "colab": {
          "base_uri": "https://localhost:8080/"
        },
        "outputId": "40a5f013-b89f-43c9-e62b-b5786cf1962a",
        "id": "-UeUI1v3dOed"
      },
      "execution_count": 8,
      "outputs": [
        {
          "output_type": "stream",
          "name": "stdout",
          "text": [
            "[0 0 0 ... 0 0 0]\n",
            "[0 0 2 ... 2 1 1]\n",
            "              precision    recall  f1-score   support\n",
            "\n",
            "           0       0.41      1.00      0.58       782\n",
            "           1       0.00      0.00      0.00       594\n",
            "           2       0.00      0.00      0.00       548\n",
            "\n",
            "    accuracy                           0.41      1924\n",
            "   macro avg       0.14      0.33      0.19      1924\n",
            "weighted avg       0.17      0.41      0.23      1924\n",
            "\n",
            "[[782   0   0]\n",
            " [594   0   0]\n",
            " [548   0   0]]\n"
          ]
        },
        {
          "output_type": "stream",
          "name": "stderr",
          "text": [
            "/usr/local/lib/python3.7/dist-packages/sklearn/metrics/_classification.py:1308: UndefinedMetricWarning: Precision and F-score are ill-defined and being set to 0.0 in labels with no predicted samples. Use `zero_division` parameter to control this behavior.\n",
            "  _warn_prf(average, modifier, msg_start, len(result))\n",
            "/usr/local/lib/python3.7/dist-packages/sklearn/metrics/_classification.py:1308: UndefinedMetricWarning: Precision and F-score are ill-defined and being set to 0.0 in labels with no predicted samples. Use `zero_division` parameter to control this behavior.\n",
            "  _warn_prf(average, modifier, msg_start, len(result))\n",
            "/usr/local/lib/python3.7/dist-packages/sklearn/metrics/_classification.py:1308: UndefinedMetricWarning: Precision and F-score are ill-defined and being set to 0.0 in labels with no predicted samples. Use `zero_division` parameter to control this behavior.\n",
            "  _warn_prf(average, modifier, msg_start, len(result))\n"
          ]
        }
      ]
    },
    {
      "cell_type": "markdown",
      "source": [
        "# Naive Bayes w/ Token Counts"
      ],
      "metadata": {
        "id": "JijxB89zeY1_"
      }
    },
    {
      "cell_type": "code",
      "source": [
        "class NaiveBayesClassifier:\n",
        "  def __init__(self):\n",
        "    self.vectorizer =  CountVectorizer()\n",
        "    self.classifier = MultinomialNB()\n",
        "\n",
        "  def train(self, X_train, y_train):\n",
        "    X_train_f = self.vectorizer.fit_transform(X_train)\n",
        "    self.classifier.fit(X_train_f, y_train)\n",
        "    return X_train_f\n",
        "\n",
        "  def predict(self, X_test):\n",
        "    X_test_f = self.vectorizer.transform(X_test)\n",
        "    y_pred = self.classifier.predict(X_test_f)\n",
        "    return y_pred, X_test_f"
      ],
      "metadata": {
        "id": "zn44MtboeX0e"
      },
      "execution_count": 9,
      "outputs": []
    },
    {
      "cell_type": "code",
      "source": [
        "classifier = NaiveBayesClassifier()\n",
        "train_strings = [' '.join(string) for string in train_tokens]\n",
        "X_train_f = classifier.train(train_strings, train_labels)\n",
        "test_strings = [' '.join(string) for string in test_tokens]\n",
        "y_pred, X_val_f = classifier.predict(test_strings)\n",
        "\n",
        "print(y_pred)\n",
        "print(test_labels)\n",
        "print(metrics.classification_report(test_labels, y_pred))\n",
        "print(metrics.confusion_matrix(test_labels, y_pred))"
      ],
      "metadata": {
        "colab": {
          "base_uri": "https://localhost:8080/"
        },
        "id": "_da7A63IehpT",
        "outputId": "18effb29-5548-4664-8979-eb6b9f64cc5c"
      },
      "execution_count": 10,
      "outputs": [
        {
          "output_type": "stream",
          "name": "stdout",
          "text": [
            "[0 0 2 ... 2 1 2]\n",
            "[0 0 2 ... 2 1 1]\n",
            "              precision    recall  f1-score   support\n",
            "\n",
            "           0       0.66      0.75      0.70       782\n",
            "           1       0.67      0.76      0.71       594\n",
            "           2       0.53      0.34      0.42       548\n",
            "\n",
            "    accuracy                           0.64      1924\n",
            "   macro avg       0.62      0.62      0.61      1924\n",
            "weighted avg       0.62      0.64      0.62      1924\n",
            "\n",
            "[[584  89 109]\n",
            " [ 84 451  59]\n",
            " [221 138 189]]\n"
          ]
        }
      ]
    },
    {
      "cell_type": "code",
      "source": [
        ""
      ],
      "metadata": {
        "id": "L_4Jf83sg5VC"
      },
      "execution_count": 10,
      "outputs": []
    }
  ]
}